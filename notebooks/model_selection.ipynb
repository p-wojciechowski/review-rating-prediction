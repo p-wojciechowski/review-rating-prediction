{
 "cells": [
  {
   "cell_type": "code",
   "execution_count": 1,
   "metadata": {},
   "outputs": [
    {
     "name": "stdout",
     "output_type": "stream",
     "text": [
      "[nltk_data] Downloading package stopwords to /usr/share/nltk_data...\n",
      "[nltk_data]   Package stopwords is already up-to-date!\n"
     ]
    }
   ],
   "source": [
    "import pandas as pd\n",
    "import numpy as np\n",
    "import matplotlib.pyplot as plt\n",
    "import seaborn as sns\n",
    "import tensorflow as tf\n",
    "import re\n",
    "import nltk\n",
    "nltk.download('stopwords')\n",
    "from nltk.corpus import stopwords"
   ]
  },
  {
   "cell_type": "markdown",
   "metadata": {},
   "source": [
    "# Model selection"
   ]
  },
  {
   "cell_type": "code",
   "execution_count": 2,
   "metadata": {},
   "outputs": [],
   "source": [
    "raw = pd.read_csv('/kaggle/input/trip-advisor-hotel-reviews/tripadvisor_hotel_reviews.csv')\n",
    "def preprocess_text(text):\n",
    "    text = text.lower()\n",
    "    text = re.sub(r\"n't\", ' not', text)\n",
    "    text = re.sub(r\"\\W|[\\r\\n]+\", ' ', text) # remove not-words and newlines\n",
    "    text = re.sub(r\"\\s{2,}\", ' ', text) # remove '.', ',' and doubled whitespaces\n",
    "    \n",
    "    tokenized = [word for word in text.split() if word not in stopwords.words('english')] # remove stopwords\n",
    "    text = ' '.join(tokenized)\n",
    "    return text\n",
    "\n",
    "df = raw\n",
    "df['Review'] = df['Review'].map(preprocess_text)\n",
    "df['Review_length'] = df['Review'].map(lambda x: len(x.split()))"
   ]
  },
  {
   "cell_type": "markdown",
   "metadata": {},
   "source": [
    "Let's devide our data set into train and test set with 80:20 ratio and tokenize texts into integers. We will use padding to fix sample size (one review length) to 300 as we previously observed during EDA that 96% of reviews have 300 or less words."
   ]
  },
  {
   "cell_type": "code",
   "execution_count": 3,
   "metadata": {},
   "outputs": [],
   "source": [
    "from keras.preprocessing.text import Tokenizer\n",
    "from keras.preprocessing.sequence import pad_sequences\n",
    "from sklearn.model_selection import train_test_split\n",
    "\n",
    "MAX_NUM_WORDS = 5000\n",
    "MAX_VECTOR_LEN = 300\n",
    "\n",
    "x_train, x_test, y_train, y_test = train_test_split(df['Review'], df['Rating'], test_size=0.20, random_state=42)\n",
    "\n",
    "tokenizer = Tokenizer(num_words=MAX_NUM_WORDS)\n",
    "tokenizer.fit_on_texts(x_train)\n",
    "\n",
    "x_train = tokenizer.texts_to_sequences(x_train)\n",
    "x_test = tokenizer.texts_to_sequences(x_test)\n",
    "\n",
    "\n",
    "x_train = pad_sequences(x_train, padding='post', maxlen=MAX_VECTOR_LEN)\n",
    "x_test = pad_sequences(x_test, padding='post', maxlen=MAX_VECTOR_LEN)"
   ]
  },
  {
   "cell_type": "code",
   "execution_count": 4,
   "metadata": {},
   "outputs": [
    {
     "data": {
      "text/plain": [
       "array([ 325, 2713, 1575,  112, 3082,  928,    1,   64,   30,  224,  435,\n",
       "        506,  437,   17, 1562,  310, 1390,  887,   52,   28], dtype=int32)"
      ]
     },
     "execution_count": 4,
     "metadata": {},
     "output_type": "execute_result"
    }
   ],
   "source": [
    "# exemplary review after transformations\n",
    "x_train[1][:20]"
   ]
  },
  {
   "cell_type": "markdown",
   "metadata": {},
   "source": [
    "Importing pre-train word vectors created with GloVe algorithm to create embbeding matrix. `glove.6B.300d.txt` contains 400,000 words represented in 300-dimensional vectors. Among 5000 words in our vocabulary, only 71 weren't present in GloVe file. Now our vocabulary is mapped into 300d vector space."
   ]
  },
  {
   "cell_type": "code",
   "execution_count": 5,
   "metadata": {},
   "outputs": [],
   "source": [
    "embedding_dict = dict()\n",
    "with open('/kaggle/input/glove6b/glove.6B.300d.txt', encoding='utf8') as file:\n",
    "    for line in file:\n",
    "        splitted_line = line.split()\n",
    "        word = splitted_line[0]\n",
    "        vector_vals = np.asarray(splitted_line[1:], dtype='float32')\n",
    "        embedding_dict[word] = vector_vals"
   ]
  },
  {
   "cell_type": "code",
   "execution_count": 6,
   "metadata": {},
   "outputs": [],
   "source": [
    "embedding_matrix = np.zeros((MAX_NUM_WORDS, 300))\n",
    "non_found_counter = 0\n",
    "for word, index in tokenizer.word_index.items():\n",
    "    embedding_vector = embedding_dict.get(word)\n",
    "    if embedding_vector is not None and index < MAX_NUM_WORDS:\n",
    "        embedding_matrix[index] = embedding_vector\n",
    "    if embedding_vector is None and index < MAX_NUM_WORDS:\n",
    "        non_found_counter += 1"
   ]
  },
  {
   "cell_type": "code",
   "execution_count": 7,
   "metadata": {},
   "outputs": [
    {
     "data": {
      "text/plain": [
       "((5000, 300), 71)"
      ]
     },
     "execution_count": 7,
     "metadata": {},
     "output_type": "execute_result"
    }
   ],
   "source": [
    "embedding_matrix.shape, non_found_counter"
   ]
  },
  {
   "cell_type": "markdown",
   "metadata": {},
   "source": [
    "## Baseline model\n",
    "First, let's establish baseline models. These can be median- and mean-based dummy models:"
   ]
  },
  {
   "cell_type": "code",
   "execution_count": 8,
   "metadata": {},
   "outputs": [
    {
     "name": "stdout",
     "output_type": "stream",
     "text": [
      "Mean-based baseline model for test set:\n",
      "1.2272561684403211\n",
      "Median-based baseline model for test set:\n",
      "1.2280768400449915\n"
     ]
    }
   ],
   "source": [
    "from sklearn.metrics import mean_squared_error\n",
    "print(\"Mean-based baseline model for test set:\")\n",
    "print(mean_squared_error(y_test, np.repeat(y_test.mean(), len(y_test)), squared=False))\n",
    "print(\"Median-based baseline model for test set:\")\n",
    "print(mean_squared_error(y_test, np.repeat(y_test.median(), len(y_test)), squared=False))"
   ]
  },
  {
   "cell_type": "markdown",
   "metadata": {},
   "source": [
    "## Simple dense network"
   ]
  },
  {
   "cell_type": "markdown",
   "metadata": {},
   "source": [
    "First, let's try with the simplest neural network containing embedding layer based on previously created `embedding_matrix`."
   ]
  },
  {
   "cell_type": "code",
   "execution_count": 9,
   "metadata": {},
   "outputs": [
    {
     "name": "stdout",
     "output_type": "stream",
     "text": [
      "Model: \"sequential\"\n",
      "_________________________________________________________________\n",
      "Layer (type)                 Output Shape              Param #   \n",
      "=================================================================\n",
      "embedding (Embedding)        (None, 300, 300)          1500000   \n",
      "_________________________________________________________________\n",
      "flatten (Flatten)            (None, 90000)             0         \n",
      "_________________________________________________________________\n",
      "dense (Dense)                (None, 1)                 90001     \n",
      "=================================================================\n",
      "Total params: 1,590,001\n",
      "Trainable params: 90,001\n",
      "Non-trainable params: 1,500,000\n",
      "_________________________________________________________________\n"
     ]
    }
   ],
   "source": [
    "from tensorflow import keras\n",
    "model = keras.Sequential([\n",
    "    keras.layers.Embedding(MAX_NUM_WORDS, 300, weights=[embedding_matrix],\n",
    "                          input_length=MAX_VECTOR_LEN, trainable=False),\n",
    "    keras.layers.Flatten(),\n",
    "    keras.layers.Dense(1)\n",
    "])\n",
    "model.compile(optimizer=keras.optimizers.Adam(learning_rate = 0.0003), loss='mean_squared_error', metrics=['mean_squared_error'])\n",
    "model.summary()"
   ]
  },
  {
   "cell_type": "code",
   "execution_count": 10,
   "metadata": {},
   "outputs": [
    {
     "name": "stdout",
     "output_type": "stream",
     "text": [
      "Epoch 1/20\n",
      "410/410 [==============================] - 4s 6ms/step - loss: 2.6733 - mean_squared_error: 2.6733 - val_loss: 0.9162 - val_mean_squared_error: 0.9162\n",
      "Epoch 2/20\n",
      "410/410 [==============================] - 2s 5ms/step - loss: 0.8922 - mean_squared_error: 0.8922 - val_loss: 0.9945 - val_mean_squared_error: 0.9945\n",
      "Epoch 3/20\n",
      "410/410 [==============================] - 2s 5ms/step - loss: 1.1284 - mean_squared_error: 1.1284 - val_loss: 0.9457 - val_mean_squared_error: 0.9457\n",
      "Epoch 4/20\n",
      "410/410 [==============================] - 2s 5ms/step - loss: 1.0377 - mean_squared_error: 1.0377 - val_loss: 1.0231 - val_mean_squared_error: 1.0231\n",
      "Epoch 5/20\n",
      "410/410 [==============================] - 2s 5ms/step - loss: 0.8117 - mean_squared_error: 0.8117 - val_loss: 0.9952 - val_mean_squared_error: 0.9952\n",
      "Epoch 6/20\n",
      "410/410 [==============================] - 2s 5ms/step - loss: 0.5910 - mean_squared_error: 0.5910 - val_loss: 1.1042 - val_mean_squared_error: 1.1042\n",
      "Epoch 7/20\n",
      "410/410 [==============================] - 2s 5ms/step - loss: 0.5211 - mean_squared_error: 0.5211 - val_loss: 1.0682 - val_mean_squared_error: 1.0682\n",
      "Epoch 8/20\n",
      "410/410 [==============================] - 2s 5ms/step - loss: 0.5732 - mean_squared_error: 0.5732 - val_loss: 1.0552 - val_mean_squared_error: 1.0552\n",
      "Epoch 9/20\n",
      "410/410 [==============================] - 2s 5ms/step - loss: 0.7045 - mean_squared_error: 0.7045 - val_loss: 1.1291 - val_mean_squared_error: 1.1291\n",
      "Epoch 10/20\n",
      "410/410 [==============================] - 2s 5ms/step - loss: 0.9926 - mean_squared_error: 0.9926 - val_loss: 1.1389 - val_mean_squared_error: 1.1389\n",
      "Epoch 11/20\n",
      "410/410 [==============================] - 2s 5ms/step - loss: 0.9739 - mean_squared_error: 0.9739 - val_loss: 1.1570 - val_mean_squared_error: 1.1570\n",
      "Epoch 12/20\n",
      "410/410 [==============================] - 2s 5ms/step - loss: 0.9980 - mean_squared_error: 0.9980 - val_loss: 1.1987 - val_mean_squared_error: 1.1987\n",
      "Epoch 13/20\n",
      "410/410 [==============================] - 2s 5ms/step - loss: 0.6274 - mean_squared_error: 0.6274 - val_loss: 1.1833 - val_mean_squared_error: 1.1833\n",
      "Epoch 14/20\n",
      "410/410 [==============================] - 2s 5ms/step - loss: 0.4803 - mean_squared_error: 0.4803 - val_loss: 1.1985 - val_mean_squared_error: 1.1985\n",
      "Epoch 15/20\n",
      "410/410 [==============================] - 2s 5ms/step - loss: 0.5345 - mean_squared_error: 0.5345 - val_loss: 1.2486 - val_mean_squared_error: 1.2486\n",
      "Epoch 16/20\n",
      "410/410 [==============================] - 2s 5ms/step - loss: 0.6583 - mean_squared_error: 0.6583 - val_loss: 1.2595 - val_mean_squared_error: 1.2595\n",
      "Epoch 17/20\n",
      "410/410 [==============================] - 2s 5ms/step - loss: 0.7459 - mean_squared_error: 0.7459 - val_loss: 1.3105 - val_mean_squared_error: 1.3105\n",
      "Epoch 18/20\n",
      "410/410 [==============================] - 2s 5ms/step - loss: 0.7986 - mean_squared_error: 0.7986 - val_loss: 1.2747 - val_mean_squared_error: 1.2747\n",
      "Epoch 19/20\n",
      "410/410 [==============================] - 2s 5ms/step - loss: 0.7086 - mean_squared_error: 0.7086 - val_loss: 1.2973 - val_mean_squared_error: 1.2973\n",
      "Epoch 20/20\n",
      "410/410 [==============================] - 2s 5ms/step - loss: 0.6377 - mean_squared_error: 0.6377 - val_loss: 1.4200 - val_mean_squared_error: 1.4200\n"
     ]
    }
   ],
   "source": [
    "history = model.fit(x_train, y_train, batch_size=32, epochs=20, validation_split=0.2)"
   ]
  },
  {
   "cell_type": "markdown",
   "metadata": {},
   "source": [
    "Oscillating loss of train dataset may indicate too high learning rate. Let's try again with the lower one."
   ]
  },
  {
   "cell_type": "code",
   "execution_count": 11,
   "metadata": {},
   "outputs": [
    {
     "data": {
      "image/png": "[encoded data removed]",
      "text/plain": [
       "<Figure size 432x288 with 1 Axes>"
      ]
     },
     "metadata": {
      "needs_background": "light"
     },
     "output_type": "display_data"
    }
   ],
   "source": [
    "plt.plot(history.history['loss'])\n",
    "plt.plot(history.history['val_loss'])\n",
    "\n",
    "plt.title('model loss')\n",
    "plt.ylabel('loss')\n",
    "plt.xlabel('epoch')\n",
    "plt.legend(['train','val'], loc='upper left')\n",
    "plt.show()"
   ]
  },
  {
   "cell_type": "code",
   "execution_count": 12,
   "metadata": {},
   "outputs": [],
   "source": [
    "model.compile(optimizer=keras.optimizers.Adam(learning_rate = 0.00003), loss='mean_squared_error', metrics=['mean_squared_error'])"
   ]
  },
  {
   "cell_type": "code",
   "execution_count": 13,
   "metadata": {},
   "outputs": [
    {
     "name": "stdout",
     "output_type": "stream",
     "text": [
      "Epoch 1/20\n",
      "410/410 [==============================] - 3s 6ms/step - loss: 0.5858 - mean_squared_error: 0.5858 - val_loss: 1.2796 - val_mean_squared_error: 1.2796\n",
      "Epoch 2/20\n",
      "410/410 [==============================] - 2s 5ms/step - loss: 0.3764 - mean_squared_error: 0.3764 - val_loss: 1.2599 - val_mean_squared_error: 1.2599\n",
      "Epoch 3/20\n",
      "410/410 [==============================] - 2s 5ms/step - loss: 0.2201 - mean_squared_error: 0.2201 - val_loss: 1.2473 - val_mean_squared_error: 1.2473\n",
      "Epoch 4/20\n",
      "410/410 [==============================] - 2s 5ms/step - loss: 0.1541 - mean_squared_error: 0.1541 - val_loss: 1.2462 - val_mean_squared_error: 1.2462\n",
      "Epoch 5/20\n",
      "410/410 [==============================] - 2s 5ms/step - loss: 0.1085 - mean_squared_error: 0.1085 - val_loss: 1.2429 - val_mean_squared_error: 1.2429\n",
      "Epoch 6/20\n",
      "410/410 [==============================] - 2s 5ms/step - loss: 0.0908 - mean_squared_error: 0.0908 - val_loss: 1.2431 - val_mean_squared_error: 1.2431\n",
      "Epoch 7/20\n",
      "410/410 [==============================] - 2s 5ms/step - loss: 0.0751 - mean_squared_error: 0.0751 - val_loss: 1.2444 - val_mean_squared_error: 1.2444\n",
      "Epoch 8/20\n",
      "410/410 [==============================] - 2s 5ms/step - loss: 0.0671 - mean_squared_error: 0.0671 - val_loss: 1.2486 - val_mean_squared_error: 1.2486\n",
      "Epoch 9/20\n",
      "410/410 [==============================] - 2s 5ms/step - loss: 0.0658 - mean_squared_error: 0.0658 - val_loss: 1.2498 - val_mean_squared_error: 1.2498\n",
      "Epoch 10/20\n",
      "410/410 [==============================] - 2s 5ms/step - loss: 0.0602 - mean_squared_error: 0.0602 - val_loss: 1.2553 - val_mean_squared_error: 1.2553\n",
      "Epoch 11/20\n",
      "410/410 [==============================] - 2s 5ms/step - loss: 0.0595 - mean_squared_error: 0.0595 - val_loss: 1.2603 - val_mean_squared_error: 1.2603\n",
      "Epoch 12/20\n",
      "410/410 [==============================] - 2s 5ms/step - loss: 0.0579 - mean_squared_error: 0.0579 - val_loss: 1.2644 - val_mean_squared_error: 1.2644\n",
      "Epoch 13/20\n",
      "410/410 [==============================] - 2s 5ms/step - loss: 0.0574 - mean_squared_error: 0.0574 - val_loss: 1.2708 - val_mean_squared_error: 1.2708\n",
      "Epoch 14/20\n",
      "410/410 [==============================] - 2s 5ms/step - loss: 0.0554 - mean_squared_error: 0.0554 - val_loss: 1.2807 - val_mean_squared_error: 1.2807\n",
      "Epoch 15/20\n",
      "410/410 [==============================] - 2s 5ms/step - loss: 0.0585 - mean_squared_error: 0.0585 - val_loss: 1.2838 - val_mean_squared_error: 1.2838\n",
      "Epoch 16/20\n",
      "410/410 [==============================] - 2s 5ms/step - loss: 0.0569 - mean_squared_error: 0.0569 - val_loss: 1.2920 - val_mean_squared_error: 1.2920\n",
      "Epoch 17/20\n",
      "410/410 [==============================] - 2s 5ms/step - loss: 0.0563 - mean_squared_error: 0.0563 - val_loss: 1.2988 - val_mean_squared_error: 1.2988\n",
      "Epoch 18/20\n",
      "410/410 [==============================] - 2s 5ms/step - loss: 0.0575 - mean_squared_error: 0.0575 - val_loss: 1.3077 - val_mean_squared_error: 1.3077\n",
      "Epoch 19/20\n",
      "410/410 [==============================] - 2s 5ms/step - loss: 0.0648 - mean_squared_error: 0.0648 - val_loss: 1.3162 - val_mean_squared_error: 1.3162\n",
      "Epoch 20/20\n",
      "410/410 [==============================] - 2s 5ms/step - loss: 0.0591 - mean_squared_error: 0.0591 - val_loss: 1.3202 - val_mean_squared_error: 1.3202\n"
     ]
    }
   ],
   "source": [
    "history = model.fit(x_train, y_train, batch_size=32, epochs=20, validation_split=0.2)"
   ]
  },
  {
   "cell_type": "markdown",
   "metadata": {},
   "source": [
    "In this case model quickly converges, unfortunetly with poor performence for validation dataset and huge overfitting."
   ]
  },
  {
   "cell_type": "code",
   "execution_count": 14,
   "metadata": {},
   "outputs": [
    {
     "data": {
      "image/png": "[encoded data removed]",
      "text/plain": [
       "<Figure size 432x288 with 1 Axes>"
      ]
     },
     "metadata": {
      "needs_background": "light"
     },
     "output_type": "display_data"
    }
   ],
   "source": [
    "plt.plot(history.history['loss'])\n",
    "plt.plot(history.history['val_loss'])\n",
    "\n",
    "plt.title('model loss')\n",
    "plt.ylabel('loss')\n",
    "plt.xlabel('epoch')\n",
    "plt.legend(['train','val'], loc='upper left')\n",
    "plt.show()"
   ]
  },
  {
   "cell_type": "markdown",
   "metadata": {},
   "source": [
    "## CNN\n",
    "Now, let's try CNN. Convolutional layers used on text can replace forming bag of ngrams and can extract patterns from text."
   ]
  },
  {
   "cell_type": "code",
   "execution_count": 26,
   "metadata": {},
   "outputs": [
    {
     "name": "stdout",
     "output_type": "stream",
     "text": [
      "Model: \"sequential_1\"\n",
      "_________________________________________________________________\n",
      "Layer (type)                 Output Shape              Param #   \n",
      "=================================================================\n",
      "embedding_2 (Embedding)      (None, 300, 300)          1500000   \n",
      "_________________________________________________________________\n",
      "conv1d_4 (Conv1D)            (None, 296, 128)          192128    \n",
      "_________________________________________________________________\n",
      "max_pooling1d_4 (MaxPooling1 (None, 98, 128)           0         \n",
      "_________________________________________________________________\n",
      "dense_1 (Dense)              (None, 98, 1)             129       \n",
      "=================================================================\n",
      "Total params: 1,692,257\n",
      "Trainable params: 192,257\n",
      "Non-trainable params: 1,500,000\n",
      "_________________________________________________________________\n"
     ]
    }
   ],
   "source": [
    "model = keras.Sequential([\n",
    "    keras.layers.Embedding(MAX_NUM_WORDS, 300, weights=[embedding_matrix],\n",
    "                          input_length=MAX_VECTOR_LEN, trainable=False),\n",
    "    keras.layers.Conv1D(128, 5, activation='relu'),\n",
    "    keras.layers.MaxPooling1D(3),\n",
    "    keras.layers.Dense(1)\n",
    "])\n",
    "model.compile(optimizer=keras.optimizers.Adam(learning_rate = 0.00003), loss='mean_squared_error', metrics=['mean_squared_error'],\n",
    "             )\n",
    "model.summary()"
   ]
  },
  {
   "cell_type": "code",
   "execution_count": 16,
   "metadata": {},
   "outputs": [
    {
     "name": "stdout",
     "output_type": "stream",
     "text": [
      "Epoch 1/20\n",
      "410/410 [==============================] - 5s 7ms/step - loss: 9.7361 - mean_squared_error: 9.7361 - val_loss: 1.3782 - val_mean_squared_error: 1.3782\n",
      "Epoch 2/20\n",
      "410/410 [==============================] - 3s 7ms/step - loss: 1.3526 - mean_squared_error: 1.3526 - val_loss: 1.1638 - val_mean_squared_error: 1.1638\n",
      "Epoch 3/20\n",
      "410/410 [==============================] - 3s 7ms/step - loss: 1.1210 - mean_squared_error: 1.1210 - val_loss: 1.0130 - val_mean_squared_error: 1.0130\n",
      "Epoch 4/20\n",
      "410/410 [==============================] - 3s 7ms/step - loss: 0.9720 - mean_squared_error: 0.9720 - val_loss: 0.9102 - val_mean_squared_error: 0.9102\n",
      "Epoch 5/20\n",
      "410/410 [==============================] - 3s 7ms/step - loss: 0.8545 - mean_squared_error: 0.8545 - val_loss: 0.8396 - val_mean_squared_error: 0.8396\n",
      "Epoch 6/20\n",
      "410/410 [==============================] - 3s 7ms/step - loss: 0.7489 - mean_squared_error: 0.7489 - val_loss: 0.7897 - val_mean_squared_error: 0.7897\n",
      "Epoch 7/20\n",
      "410/410 [==============================] - 3s 7ms/step - loss: 0.6727 - mean_squared_error: 0.6727 - val_loss: 0.7547 - val_mean_squared_error: 0.7547\n",
      "Epoch 8/20\n",
      "410/410 [==============================] - 3s 7ms/step - loss: 0.6283 - mean_squared_error: 0.6283 - val_loss: 0.7228 - val_mean_squared_error: 0.7228\n",
      "Epoch 9/20\n",
      "410/410 [==============================] - 3s 7ms/step - loss: 0.5722 - mean_squared_error: 0.5722 - val_loss: 0.7030 - val_mean_squared_error: 0.7030\n",
      "Epoch 10/20\n",
      "410/410 [==============================] - 3s 8ms/step - loss: 0.5331 - mean_squared_error: 0.5331 - val_loss: 0.6865 - val_mean_squared_error: 0.6865\n",
      "Epoch 11/20\n",
      "410/410 [==============================] - 3s 7ms/step - loss: 0.5055 - mean_squared_error: 0.5055 - val_loss: 0.6723 - val_mean_squared_error: 0.6723\n",
      "Epoch 12/20\n",
      "410/410 [==============================] - 3s 7ms/step - loss: 0.4628 - mean_squared_error: 0.4628 - val_loss: 0.6613 - val_mean_squared_error: 0.6613\n",
      "Epoch 13/20\n",
      "410/410 [==============================] - 3s 7ms/step - loss: 0.4437 - mean_squared_error: 0.4437 - val_loss: 0.6521 - val_mean_squared_error: 0.6521\n",
      "Epoch 14/20\n",
      "410/410 [==============================] - 3s 7ms/step - loss: 0.4165 - mean_squared_error: 0.4165 - val_loss: 0.6458 - val_mean_squared_error: 0.6458\n",
      "Epoch 15/20\n",
      "410/410 [==============================] - 3s 7ms/step - loss: 0.3748 - mean_squared_error: 0.3748 - val_loss: 0.6394 - val_mean_squared_error: 0.6394\n",
      "Epoch 16/20\n",
      "410/410 [==============================] - 3s 7ms/step - loss: 0.3575 - mean_squared_error: 0.3575 - val_loss: 0.6394 - val_mean_squared_error: 0.6394\n",
      "Epoch 17/20\n",
      "410/410 [==============================] - 3s 7ms/step - loss: 0.3450 - mean_squared_error: 0.3450 - val_loss: 0.6305 - val_mean_squared_error: 0.6305\n",
      "Epoch 18/20\n",
      "410/410 [==============================] - 3s 7ms/step - loss: 0.3226 - mean_squared_error: 0.3226 - val_loss: 0.6273 - val_mean_squared_error: 0.6273\n",
      "Epoch 19/20\n",
      "410/410 [==============================] - 3s 7ms/step - loss: 0.2952 - mean_squared_error: 0.2952 - val_loss: 0.6254 - val_mean_squared_error: 0.6254\n",
      "Epoch 20/20\n",
      "410/410 [==============================] - 3s 7ms/step - loss: 0.2821 - mean_squared_error: 0.2821 - val_loss: 0.6204 - val_mean_squared_error: 0.6204\n"
     ]
    }
   ],
   "source": [
    "history = model.fit(x_train, y_train, batch_size=32, epochs=20, verbose=1, validation_split=0.2)"
   ]
  },
  {
   "cell_type": "markdown",
   "metadata": {},
   "source": [
    "CNN looks more promising, let's search hyperparameters for more complex network."
   ]
  },
  {
   "cell_type": "code",
   "execution_count": 17,
   "metadata": {},
   "outputs": [
    {
     "data": {
      "image/png": "[encoded data removed]",
      "text/plain": [
       "<Figure size 432x288 with 1 Axes>"
      ]
     },
     "metadata": {
      "needs_background": "light"
     },
     "output_type": "display_data"
    }
   ],
   "source": [
    "plt.plot(history.history['loss'])\n",
    "plt.plot(history.history['val_loss'])\n",
    "\n",
    "plt.title('model loss')\n",
    "plt.ylabel('loss')\n",
    "plt.xlabel('epoch')\n",
    "plt.legend(['train','val'], loc='upper left')\n",
    "plt.show()"
   ]
  },
  {
   "cell_type": "markdown",
   "metadata": {},
   "source": [
    "#### Searching hyperparameters\n",
    "We will use keras tuner for searching hyperparameters. It have few different tuners which use different searching algorithms. We will use `BayesianOptimization` that is based on Bayesian search algorithm which is much better than simple grid search or random search.\n",
    "\n",
    "In `build_model` function we specify structure of model and space of parameters to search. It's important to set `padding=same` parameter in `Conv1D` and `MaxPooling1D` layers, beacause for some combinations and kernels or pooling sizes there would be dimensions error (*e.g. big pool_size in previous layer reduced length of vector to 8 and next Conv1D layer have kernel with size of 9*).\n",
    "\n",
    "I decided not to use `GlobalPooling`, because i wanted preserve some level of location information on account of fact that many negative reviews begins with very few compliments."
   ]
  },
  {
   "cell_type": "code",
   "execution_count": 18,
   "metadata": {},
   "outputs": [],
   "source": [
    "# crating explicit train and validation set\n",
    "x_train_smaller, x_val, y_train_smaller, y_val = train_test_split(x_train, y_train, test_size=0.20, random_state=42)"
   ]
  },
  {
   "cell_type": "code",
   "execution_count": 67,
   "metadata": {},
   "outputs": [],
   "source": [
    "def build_model(hp):\n",
    "    model = keras.Sequential()\n",
    "    model.add(keras.layers.Embedding(MAX_NUM_WORDS, 300, weights=[embedding_matrix],\n",
    "                          input_length=MAX_VECTOR_LEN, trainable=False))\n",
    "    for i in range(hp.Int('n_layers', 1,5)):\n",
    "        filters = hp.Int('filters_'+str(i), min_value=32,max_value=784,step=16)\n",
    "        kernel_size = hp.Int('filter_size_'+str(i),min_value=3,max_value=9,step=2)\n",
    "        pooling_size = hp.Int('pool_size_'+str(i),2,12, step=1)\n",
    "        \n",
    "        model.add(keras.layers.Conv1D(filters, kernel_size, activation='relu', padding='same'))\n",
    "        model.add(keras.layers.MaxPooling1D(pooling_size, padding='same'))\n",
    "    model.add(keras.layers.Flatten())\n",
    "    model.add(keras.layers.Dropout(hp.Float('dropout_rate', min_value=0.1,\n",
    "                                           max_value=0.9, step=0.1)))\n",
    "    model.add(keras.layers.Dense(hp.Int('dense_units', 16, 128, step=8)))\n",
    "    model.add(keras.layers.Dense(1))\n",
    "    model.compile(optimizer=keras.optimizers.Adam(\n",
    "        learning_rate = hp.Choice('lr',[0.005,0.001, 0.0001, 0.00001, 0.000001])),\n",
    "                  loss='mean_squared_error', metrics=['mean_squared_error'])\n",
    "    return model"
   ]
  },
  {
   "cell_type": "code",
   "execution_count": 71,
   "metadata": {},
   "outputs": [
    {
     "name": "stdout",
     "output_type": "stream",
     "text": [
      "Trial 40 Complete [00h 00m 40s]\n",
      "val_mean_squared_error: 0.7403683662414551\n",
      "\n",
      "Best val_mean_squared_error So Far: 0.49662357568740845\n",
      "Total elapsed time: 00h 43m 30s\n"
     ]
    }
   ],
   "source": [
    "import kerastuner as kt\n",
    "\n",
    "tuner = kt.BayesianOptimization(build_model, objective='val_mean_squared_error',\n",
    "                               max_trials=40)\n",
    "tuner.search(x_train_smaller, y_train_smaller, epochs=10, validation_data=(x_val, y_val),\n",
    "            verbose=2)"
   ]
  },
  {
   "cell_type": "code",
   "execution_count": 72,
   "metadata": {},
   "outputs": [
    {
     "data": {
      "text/plain": [
       "{'n_layers': 5,\n",
       " 'filters_0': 400,\n",
       " 'filter_size_0': 3,\n",
       " 'pool_size_0': 8,\n",
       " 'dropout_rate': 0.4,\n",
       " 'dense_units': 80,\n",
       " 'lr': 0.001,\n",
       " 'filters_1': 784,\n",
       " 'filter_size_1': 3,\n",
       " 'pool_size_1': 6,\n",
       " 'filters_2': 400,\n",
       " 'filter_size_2': 7,\n",
       " 'pool_size_2': 10,\n",
       " 'filters_3': 384,\n",
       " 'filter_size_3': 7,\n",
       " 'pool_size_3': 12,\n",
       " 'filters_4': 448,\n",
       " 'filter_size_4': 3,\n",
       " 'pool_size_4': 2}"
      ]
     },
     "execution_count": 72,
     "metadata": {},
     "output_type": "execute_result"
    }
   ],
   "source": [
    "tuner.get_best_hyperparameters(1)[0].values"
   ]
  },
  {
   "cell_type": "markdown",
   "metadata": {},
   "source": [
    "Structure of model with best found hyperparametes."
   ]
  },
  {
   "cell_type": "code",
   "execution_count": 73,
   "metadata": {},
   "outputs": [
    {
     "name": "stdout",
     "output_type": "stream",
     "text": [
      "Model: \"sequential\"\n",
      "_________________________________________________________________\n",
      "Layer (type)                 Output Shape              Param #   \n",
      "=================================================================\n",
      "embedding (Embedding)        (None, 300, 300)          1500000   \n",
      "_________________________________________________________________\n",
      "conv1d (Conv1D)              (None, 300, 400)          360400    \n",
      "_________________________________________________________________\n",
      "max_pooling1d (MaxPooling1D) (None, 38, 400)           0         \n",
      "_________________________________________________________________\n",
      "conv1d_1 (Conv1D)            (None, 38, 784)           941584    \n",
      "_________________________________________________________________\n",
      "max_pooling1d_1 (MaxPooling1 (None, 7, 784)            0         \n",
      "_________________________________________________________________\n",
      "conv1d_2 (Conv1D)            (None, 7, 400)            2195600   \n",
      "_________________________________________________________________\n",
      "max_pooling1d_2 (MaxPooling1 (None, 1, 400)            0         \n",
      "_________________________________________________________________\n",
      "conv1d_3 (Conv1D)            (None, 1, 384)            1075584   \n",
      "_________________________________________________________________\n",
      "max_pooling1d_3 (MaxPooling1 (None, 1, 384)            0         \n",
      "_________________________________________________________________\n",
      "conv1d_4 (Conv1D)            (None, 1, 448)            516544    \n",
      "_________________________________________________________________\n",
      "max_pooling1d_4 (MaxPooling1 (None, 1, 448)            0         \n",
      "_________________________________________________________________\n",
      "flatten (Flatten)            (None, 448)               0         \n",
      "_________________________________________________________________\n",
      "dropout (Dropout)            (None, 448)               0         \n",
      "_________________________________________________________________\n",
      "dense (Dense)                (None, 80)                35920     \n",
      "_________________________________________________________________\n",
      "dense_1 (Dense)              (None, 1)                 81        \n",
      "=================================================================\n",
      "Total params: 6,625,713\n",
      "Trainable params: 5,125,713\n",
      "Non-trainable params: 1,500,000\n",
      "_________________________________________________________________\n"
     ]
    }
   ],
   "source": [
    "cnn_model = tuner.get_best_models(1)[0]\n",
    "cnn_model.summary()"
   ]
  },
  {
   "cell_type": "markdown",
   "metadata": {},
   "source": [
    "Model on test set has pretty good score."
   ]
  },
  {
   "cell_type": "code",
   "execution_count": 74,
   "metadata": {},
   "outputs": [
    {
     "data": {
      "text/plain": [
       "0.4726994458861257"
      ]
     },
     "execution_count": 74,
     "metadata": {},
     "output_type": "execute_result"
    }
   ],
   "source": [
    "y_pred = cnn_model.predict(x_test)\n",
    "from sklearn.metrics import mean_squared_error\n",
    "mean_squared_error(y_test, y_pred)"
   ]
  },
  {
   "cell_type": "code",
   "execution_count": 75,
   "metadata": {},
   "outputs": [],
   "source": [
    "# saving model for use in REST API\n",
    "tf.keras.models.save_model(cnn_model, './cnn_model2')"
   ]
  },
  {
   "cell_type": "code",
   "execution_count": 76,
   "metadata": {},
   "outputs": [
    {
     "data": {
      "text/plain": [
       "'/kaggle/working/cnn_model.zip.zip'"
      ]
     },
     "execution_count": 76,
     "metadata": {},
     "output_type": "execute_result"
    }
   ],
   "source": [
    "import shutil\n",
    "shutil.make_archive('cnn_model.zip', 'zip', './cnn_model2')"
   ]
  },
  {
   "cell_type": "code",
   "execution_count": null,
   "metadata": {},
   "outputs": [],
   "source": []
  }
 ],
 "metadata": {
  "kernelspec": {
   "display_name": "Python 3",
   "language": "python",
   "name": "python3"
  },
  "language_info": {
   "codemirror_mode": {
    "name": "ipython",
    "version": 3
   },
   "file_extension": ".py",
   "mimetype": "text/x-python",
   "name": "python",
   "nbconvert_exporter": "python",
   "pygments_lexer": "ipython3",
   "version": "3.8.2"
  }
 },
 "nbformat": 4,
 "nbformat_minor": 4
}
